{
 "cells": [
  {
   "cell_type": "code",
   "execution_count": 21,
   "id": "da5292b9",
   "metadata": {},
   "outputs": [
    {
     "name": "stdout",
     "output_type": "stream",
     "text": [
      "Eigenvalues:  [-0.37228132  5.37228132]\n",
      "Eigenvectors: \n",
      "[[-0.82456484 -0.41597356]\n",
      " [ 0.56576746 -0.90937671]]\n",
      "Determinant:  -2.0000000000000004\n",
      "Cross product:  [-3  6 -3]\n",
      "Solution: \n",
      "[[-1.]\n",
      " [-4.]\n",
      " [ 3.]]\n"
     ]
    }
   ],
   "source": [
    "import numpy as np\n",
    "arr=np.array([[1,2],[3,4]])\n",
    "w,v= np.linalg.eig(arr)\n",
    "d=np.linalg.det(arr)\n",
    "print(\"Eigenvalues: \",w)\n",
    "print(\"Eigenvectors: \")\n",
    "print(v)\n",
    "print(\"Determinant: \",d)\n",
    "vec1=[1,2,3]\n",
    "vec2=[4,5,6]\n",
    "print(\"Cross product: \",np.cross(vec1,vec2))\n",
    "A=np.matrix([[1,2,-2],[2,1,-5],[1,-4,1]])\n",
    "b=np.matrix([-15,-21,18]).transpose()\n",
    "x=np.linalg.solve(A,b)\n",
    "print(\"Solution: \")\n",
    "print(x)\n"
   ]
  },
  {
   "cell_type": "code",
   "execution_count": null,
   "id": "0edc2477",
   "metadata": {},
   "outputs": [],
   "source": []
  }
 ],
 "metadata": {
  "kernelspec": {
   "display_name": "Python 3 (ipykernel)",
   "language": "python",
   "name": "python3"
  },
  "language_info": {
   "codemirror_mode": {
    "name": "ipython",
    "version": 3
   },
   "file_extension": ".py",
   "mimetype": "text/x-python",
   "name": "python",
   "nbconvert_exporter": "python",
   "pygments_lexer": "ipython3",
   "version": "3.11.2"
  }
 },
 "nbformat": 4,
 "nbformat_minor": 5
}
