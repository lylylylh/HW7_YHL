{
 "cells": [
  {
   "cell_type": "code",
   "execution_count": 30,
   "id": "e915a840",
   "metadata": {},
   "outputs": [
    {
     "name": "stdout",
     "output_type": "stream",
     "text": [
      "doc1=0.58\n",
      "doc2=0.87\n",
      "doc3=0.67\n"
     ]
    }
   ],
   "source": [
    "import numpy as np\n",
    "Docs=np.array([[1,1,0,1,0,1],[1,1,1,0,1,0],[1,1,0,1,0,0]])\n",
    "Query=np.array([1,1,0,0,1,0])\n",
    "cs=[0,0,0]\n",
    "for i in range(0,3):\n",
    "    cs[i]=np.dot(Docs[i],Query)/(np.linalg.norm(Docs[i])*np.linalg.norm(Query))\n",
    "print(\"doc1={0:.2f}\".format(cs[0]))\n",
    "print(\"doc2={0:.2f}\".format(cs[1]))\n",
    "print(\"doc3={0:.2f}\".format(cs[2]))"
   ]
  },
  {
   "cell_type": "code",
   "execution_count": null,
   "id": "085c8be1",
   "metadata": {},
   "outputs": [],
   "source": []
  }
 ],
 "metadata": {
  "kernelspec": {
   "display_name": "Python 3 (ipykernel)",
   "language": "python",
   "name": "python3"
  },
  "language_info": {
   "codemirror_mode": {
    "name": "ipython",
    "version": 3
   },
   "file_extension": ".py",
   "mimetype": "text/x-python",
   "name": "python",
   "nbconvert_exporter": "python",
   "pygments_lexer": "ipython3",
   "version": "3.11.2"
  }
 },
 "nbformat": 4,
 "nbformat_minor": 5
}
